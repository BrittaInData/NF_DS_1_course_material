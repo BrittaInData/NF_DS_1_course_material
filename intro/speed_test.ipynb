{
 "cells": [
  {
   "cell_type": "markdown",
   "metadata": {},
   "source": [
    "## Speedtest"
   ]
  },
  {
   "cell_type": "code",
   "execution_count": 1,
   "metadata": {},
   "outputs": [],
   "source": [
    "import numpy as np"
   ]
  },
  {
   "cell_type": "code",
   "execution_count": 2,
   "metadata": {},
   "outputs": [],
   "source": [
    "import time # für die Zeitmessung"
   ]
  },
  {
   "cell_type": "markdown",
   "metadata": {},
   "source": [
    "### Der manuelle Versuch der Summenbildung:\n",
    "(ohne auf die Summenfunktion von Python zurückzugreifen)"
   ]
  },
  {
   "cell_type": "code",
   "execution_count": 7,
   "metadata": {},
   "outputs": [],
   "source": [
    "n = 5000"
   ]
  },
  {
   "cell_type": "code",
   "execution_count": 8,
   "metadata": {},
   "outputs": [],
   "source": [
    "python_array = [1] * n # array mit n Einträgen"
   ]
  },
  {
   "cell_type": "code",
   "execution_count": 9,
   "metadata": {},
   "outputs": [
    {
     "data": {
      "text/plain": [
       "5000"
      ]
     },
     "execution_count": 9,
     "metadata": {},
     "output_type": "execute_result"
    }
   ],
   "source": [
    "len(python_array)"
   ]
  },
  {
   "cell_type": "code",
   "execution_count": 10,
   "metadata": {},
   "outputs": [
    {
     "name": "stdout",
     "output_type": "stream",
     "text": [
      "0.00219106674194 s\n"
     ]
    }
   ],
   "source": [
    "start = time.time() # startzeit\n",
    "\n",
    "summe = 0\n",
    "for x in range(0, n):\n",
    "    summe += python_array[x] \n",
    "\n",
    "end = time.time() # endzeit\n",
    "\n",
    "# Berechnung der Dauer und formatierte Ausgabe\n",
    "time_loop = end - start\n",
    "print(str(time_loop) + \" s\") # str() convertiert die Zahlen in einen String "
   ]
  },
  {
   "cell_type": "code",
   "execution_count": 7,
   "metadata": {},
   "outputs": [
    {
     "data": {
      "text/plain": [
       "50000000"
      ]
     },
     "execution_count": 7,
     "metadata": {},
     "output_type": "execute_result"
    }
   ],
   "source": [
    "summe"
   ]
  },
  {
   "cell_type": "markdown",
   "metadata": {},
   "source": [
    "### Die Umsetzung mit Hilfer der Summenfunktion von Python"
   ]
  },
  {
   "cell_type": "code",
   "execution_count": 8,
   "metadata": {},
   "outputs": [
    {
     "name": "stdout",
     "output_type": "stream",
     "text": [
      "0.270488023758 s\n"
     ]
    }
   ],
   "source": [
    "start = time.time() # startzeit\n",
    "\n",
    "summe_py = sum(python_array)\n",
    "end = time.time() # endzeit\n",
    "\n",
    "# Berechnung der Dauer und formatierte Ausgabe\n",
    "time_pySum = end - start\n",
    "print(str(time_pySum) + \" s\") # str() convertiert die Zahlen in einen String "
   ]
  },
  {
   "cell_type": "code",
   "execution_count": 9,
   "metadata": {},
   "outputs": [
    {
     "data": {
      "text/plain": [
       "50000000"
      ]
     },
     "execution_count": 9,
     "metadata": {},
     "output_type": "execute_result"
    }
   ],
   "source": [
    "summe_py"
   ]
  },
  {
   "cell_type": "markdown",
   "metadata": {},
   "source": [
    "### Die Umsetzung mit numpy"
   ]
  },
  {
   "cell_type": "code",
   "execution_count": 10,
   "metadata": {},
   "outputs": [],
   "source": [
    "numpy_array = np.ones(n)"
   ]
  },
  {
   "cell_type": "code",
   "execution_count": 11,
   "metadata": {},
   "outputs": [
    {
     "data": {
      "text/plain": [
       "50000000"
      ]
     },
     "execution_count": 11,
     "metadata": {},
     "output_type": "execute_result"
    }
   ],
   "source": [
    "numpy_array.size"
   ]
  },
  {
   "cell_type": "code",
   "execution_count": 12,
   "metadata": {},
   "outputs": [
    {
     "name": "stdout",
     "output_type": "stream",
     "text": [
      "0.0255091190338 s\n"
     ]
    }
   ],
   "source": [
    "start = time.time() # startzeit\n",
    "\n",
    "summe_np = numpy_array.sum()\n",
    "\n",
    "end = time.time() # endzeit\n",
    "\n",
    "# Berechnung der Dauer und formatierte Ausgabe\n",
    "time_np = end - start\n",
    "print(str(time_np) + \" s\")"
   ]
  },
  {
   "cell_type": "code",
   "execution_count": 13,
   "metadata": {},
   "outputs": [
    {
     "data": {
      "text/plain": [
       "50000000.0"
      ]
     },
     "execution_count": 13,
     "metadata": {},
     "output_type": "execute_result"
    }
   ],
   "source": [
    "summe_np"
   ]
  },
  {
   "cell_type": "markdown",
   "metadata": {},
   "source": [
    "### Results"
   ]
  },
  {
   "cell_type": "code",
   "execution_count": 14,
   "metadata": {},
   "outputs": [
    {
     "name": "stdout",
     "output_type": "stream",
     "text": [
      "Speedup Python-Summe vs. Summenbildung mittels for-Schleife: \n",
      "50.9421300316\n"
     ]
    }
   ],
   "source": [
    "print(\"Speedup Python-Summe vs. Summenbildung mittels for-Schleife: \")\n",
    "print(time_loop / time_pySum)"
   ]
  },
  {
   "cell_type": "code",
   "execution_count": 15,
   "metadata": {},
   "outputs": [
    {
     "name": "stdout",
     "output_type": "stream",
     "text": [
      "Speedup Numpy vs. Python-Summe: \n",
      "10.6035815427\n"
     ]
    }
   ],
   "source": [
    "print(\"Speedup Numpy vs. Python-Summe: \")\n",
    "print(time_pySum / time_np)"
   ]
  },
  {
   "cell_type": "code",
   "execution_count": 17,
   "metadata": {},
   "outputs": [
    {
     "name": "stdout",
     "output_type": "stream",
     "text": [
      "Speedup Numpy vs. Loop-Summe: \n",
      "540.16902975\n"
     ]
    }
   ],
   "source": [
    "print(\"Speedup Numpy vs. Loop-Summe: \")\n",
    "print(time_loop / time_np)"
   ]
  },
  {
   "cell_type": "code",
   "execution_count": null,
   "metadata": {},
   "outputs": [],
   "source": []
  }
 ],
 "metadata": {
  "kernelspec": {
   "display_name": "Python 2",
   "language": "python",
   "name": "python2"
  },
  "language_info": {
   "codemirror_mode": {
    "name": "ipython",
    "version": 2
   },
   "file_extension": ".py",
   "mimetype": "text/x-python",
   "name": "python",
   "nbconvert_exporter": "python",
   "pygments_lexer": "ipython2",
   "version": "2.7.15"
  }
 },
 "nbformat": 4,
 "nbformat_minor": 2
}
