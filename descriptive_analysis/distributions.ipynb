{
 "cells": [
  {
   "cell_type": "markdown",
   "metadata": {},
   "source": [
    "## Verteilungen\n",
    "Statistische Verteilungen: Beispiele, Numpy Funktionen, Anwendungen\n",
    "*\"Neues\" Packet* scipy"
   ]
  },
  {
   "cell_type": "code",
   "execution_count": 8,
   "metadata": {},
   "outputs": [],
   "source": [
    "import numpy as np\n",
    "import matplotlib.pyplot as plt"
   ]
  },
  {
   "cell_type": "code",
   "execution_count": null,
   "metadata": {},
   "outputs": [],
   "source": []
  },
  {
   "cell_type": "code",
   "execution_count": 13,
   "metadata": {},
   "outputs": [
    {
     "data": {
      "text/plain": [
       "array([-1.28510037e+00,  3.11714954e-02,  1.88313064e+00,  9.53476916e-01,\n",
       "        1.03721486e+00,  8.29288256e-03, -1.00350882e+00, -1.92118695e+00,\n",
       "        4.23538796e-01,  1.14767562e+00, -5.66776586e-01, -8.70260126e-02,\n",
       "       -7.03262028e-01,  2.80352402e-02, -1.71626390e+00, -1.25870276e+00,\n",
       "        7.28573242e-01, -4.02809274e-01,  2.19506966e+00,  2.23804971e-01,\n",
       "       -6.07045925e-02,  1.00324563e+00, -1.61586685e+00,  3.21542212e-01,\n",
       "        7.90000971e-01,  4.19328906e-01,  3.34254585e-02,  1.44549908e+00,\n",
       "       -1.81926648e+00,  1.35112795e+00,  5.77790101e-01, -5.47494897e-01,\n",
       "        7.88672732e-01,  1.86403134e+00,  1.40505757e-01,  1.22911345e+00,\n",
       "       -1.79529439e+00,  6.04539828e-01, -5.81048565e-01,  5.89521114e-01,\n",
       "       -9.21216481e-01, -9.86393137e-01, -1.27552260e+00,  1.58015063e+00,\n",
       "       -1.85569513e-01, -5.04825616e-01,  2.94019129e-01, -5.19270367e-01,\n",
       "       -3.90718291e-01,  4.27538329e-01, -4.36852535e-03,  1.19541969e+00,\n",
       "        7.50523076e-01,  1.43432342e+00, -1.93926475e-01, -3.58785425e-02,\n",
       "        2.68351673e-01,  6.06967124e-01,  3.09369772e-01, -2.25728377e+00,\n",
       "        4.81112450e-01,  6.52357360e-01,  3.80102781e-01,  7.54659910e-01,\n",
       "       -2.56977192e-01,  5.34013889e-02, -8.54956737e-01, -4.59210154e-01,\n",
       "        8.46515751e-01, -1.32335436e+00,  8.96722489e-01, -1.00230172e+00,\n",
       "       -3.51611498e-01,  8.48596545e-01, -3.61177169e-01, -5.37497312e-01,\n",
       "        1.24145171e+00,  8.42571067e-02, -9.38723024e-04,  1.54188840e-01,\n",
       "        2.35936774e+00,  2.55400507e-02,  1.06165064e+00,  7.82620936e-01,\n",
       "        8.70667470e-03, -1.11515299e+00, -4.94255540e-01,  1.98499702e+00,\n",
       "        6.97008484e-01,  1.22035879e+00, -6.66754309e-01,  1.28155424e+00,\n",
       "       -1.32009885e+00,  1.63638924e+00, -4.84949561e-01, -4.00255364e-02,\n",
       "       -9.18379338e-01,  3.20711154e-01, -3.19133317e-01, -1.05495930e+00])"
      ]
     },
     "execution_count": 13,
     "metadata": {},
     "output_type": "execute_result"
    }
   ],
   "source": [
    "np.random.normal(0,1, 100)"
   ]
  },
  {
   "cell_type": "code",
   "execution_count": 14,
   "metadata": {},
   "outputs": [
    {
     "data": {
      "text/plain": [
       "[<matplotlib.lines.Line2D at 0x1a1fd92b90>]"
      ]
     },
     "execution_count": 14,
     "metadata": {},
     "output_type": "execute_result"
    },
    {
     "data": {
      "image/png": "[encoded data removed]",
      "text/plain": [
       "<Figure size 432x288 with 1 Axes>"
      ]
     },
     "metadata": {},
     "output_type": "display_data"
    }
   ],
   "source": [
    "import scipy, scipy.stats\n",
    "x = scipy.linspace(0,10,11)\n",
    "pmf = scipy.stats.binom.pmf(x,10,0.1)\n",
    "import pylab\n",
    "pylab.plot(x,pmf)"
   ]
  },
  {
   "cell_type": "code",
   "execution_count": null,
   "metadata": {},
   "outputs": [],
   "source": [
    "np.zeros()"
   ]
  }
 ],
 "metadata": {
  "kernelspec": {
   "display_name": "Python 2",
   "language": "python",
   "name": "python2"
  },
  "language_info": {
   "codemirror_mode": {
    "name": "ipython",
    "version": 2
   },
   "file_extension": ".py",
   "mimetype": "text/x-python",
   "name": "python",
   "nbconvert_exporter": "python",
   "pygments_lexer": "ipython2",
   "version": "2.7.15"
  }
 },
 "nbformat": 4,
 "nbformat_minor": 2
}
