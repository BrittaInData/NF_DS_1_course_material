{
 "cells": [
  {
   "cell_type": "markdown",
   "metadata": {},
   "source": [
    "## Verteilungen\n",
    "Statistische Verteilungen: Beispiele, Numpy Funktionen, Anwendungen\n",
    "*\"neues\" Packet* scipy"
   ]
  },
  {
   "cell_type": "code",
   "execution_count": 1,
   "metadata": {},
   "outputs": [],
   "source": [
    "import numpy as np\n",
    "import matplotlib.pyplot as plt"
   ]
  },
  {
   "cell_type": "markdown",
   "metadata": {},
   "source": [
    "Um die Verteilungsfunktionen zu berechnen nutzen wir ein weiteres python packet aus der scipy Bibliothek"
   ]
  },
  {
   "cell_type": "code",
   "execution_count": 2,
   "metadata": {},
   "outputs": [],
   "source": [
    "import scipy, scipy.stats"
   ]
  },
  {
   "cell_type": "markdown",
   "metadata": {},
   "source": [
    "Um die Normalverteilung zu plotten wollen wir die Wahrscheinlichkeitsdichtefunktion (probability density function, pdf) an verschiedenen Stellen auswerten und mit *pyplot* plotten. "
   ]
  },
  {
   "cell_type": "markdown",
   "metadata": {},
   "source": [
    "Mit Hilfe von der scipy Funktion linespace erstelle ich mir eine Liste an Werten. Diese nutze ich als Werte auf der x-Achse, an denen ich die *pdf* auswerten will. "
   ]
  },
  {
   "cell_type": "markdown",
   "metadata": {},
   "source": [
    "*Elegante Lösung*: Zur Darstellung der Wahrscheinlichkeitsdichtefunktion werte ich die Funktion an bestimmten x-Werten aus. Diese könnte ich einfach definieren, aber im Zweifel weiß ich nicht wo auf der x-Achse der relevante Teil der Wahrscheinlichkeitsdichtefunktion liegt.\n",
    "Um dieses Problem elegant zu umgehen, kann ich die *ppf* (Percent point function) nutzen. Diese ist die Umkehrfunktion der *cdf* (comulative density function). Wenn ich diese am \"Anfang\" (also bei 1% der Dichte) und am \"Ende\" (also bei 99% der Dichte) auswerte, bekomme ich die Intervallgrenzen innerhalb derer sich fast alles abspielt. Ich muss also kein geeignetes Interval suchen!"
   ]
  },
  {
   "cell_type": "code",
   "execution_count": 3,
   "metadata": {},
   "outputs": [],
   "source": [
    "lower = scipy.stats.norm.ppf(0.01,0,1)\n",
    "upper = scipy.stats.norm.ppf(0.99,0,1)\n",
    "x = scipy.linspace(lower,upper,100)"
   ]
  },
  {
   "cell_type": "markdown",
   "metadata": {},
   "source": [
    "Dann berechne ich die pdf an den in **x** gespeicherten Stellen wie folgt"
   ]
  },
  {
   "cell_type": "code",
   "execution_count": 4,
   "metadata": {},
   "outputs": [],
   "source": [
    "y = scipy.stats.norm.pdf(x,0,1)"
   ]
  },
  {
   "cell_type": "markdown",
   "metadata": {},
   "source": [
    "Und plotte die Werte"
   ]
  },
  {
   "cell_type": "code",
   "execution_count": 5,
   "metadata": {},
   "outputs": [
    {
     "data": {
      "text/plain": [
       "[<matplotlib.lines.Line2D at 0x1a152785d0>]"
      ]
     },
     "execution_count": 5,
     "metadata": {},
     "output_type": "execute_result"
    },
    {
     "data": {
      "image/png": "[encoded data removed]",
      "text/plain": [
       "<Figure size 432x288 with 1 Axes>"
      ]
     },
     "metadata": {},
     "output_type": "display_data"
    }
   ],
   "source": [
    "plt.plot(x,y)"
   ]
  },
  {
   "cell_type": "markdown",
   "metadata": {},
   "source": [
    "Wenn ich Werte einer Zufallsvariablen die einer Bestimmten Verteilung folgt ziehen will, kann ich das einfach mit *numpy* machen:"
   ]
  },
  {
   "cell_type": "code",
   "execution_count": 6,
   "metadata": {},
   "outputs": [
    {
     "data": {
      "text/plain": [
       "array([-1.08277508, -0.68510944, -0.26282829, -0.15313221,  0.26524873,\n",
       "        0.47733862, -0.44196427, -1.51571798,  0.45101824, -1.4572424 ])"
      ]
     },
     "execution_count": 6,
     "metadata": {},
     "output_type": "execute_result"
    }
   ],
   "source": [
    "np.random.normal(0,1,10)"
   ]
  },
  {
   "cell_type": "code",
   "execution_count": 7,
   "metadata": {},
   "outputs": [
    {
     "data": {
      "image/png": "[encoded data removed]",
      "text/plain": [
       "<Figure size 432x288 with 1 Axes>"
      ]
     },
     "metadata": {},
     "output_type": "display_data"
    }
   ],
   "source": [
    "n = 10000 # mit steigendem n nähert sich das Histogram an die mathematische Dichtefunktion an\n",
    "rv = np.random.normal(0,1,n)\n",
    "plt.hist(rv, 100,density=True)\n",
    "plt.plot(x, y)\n",
    "plt.show();"
   ]
  },
  {
   "cell_type": "markdown",
   "metadata": {},
   "source": [
    "## Würfelexperiment"
   ]
  },
  {
   "cell_type": "code",
   "execution_count": 8,
   "metadata": {},
   "outputs": [],
   "source": [
    "n = 100\n",
    "spiele_ergebnis = np.random.randint(1,7,n) # Zahlen 1-6 (Die obere Grenze ist nicht eingeschlossen!!)"
   ]
  },
  {
   "cell_type": "markdown",
   "metadata": {},
   "source": [
    "Ein Schätzer für den Erwartungswert könnte einfach der Mittelwert der Ergebnisse sein:"
   ]
  },
  {
   "cell_type": "code",
   "execution_count": 9,
   "metadata": {},
   "outputs": [
    {
     "data": {
      "text/plain": [
       "3.64"
      ]
     },
     "execution_count": 9,
     "metadata": {},
     "output_type": "execute_result"
    }
   ],
   "source": [
    "spiele_ergebnis.sum()/float(n)"
   ]
  },
  {
   "cell_type": "markdown",
   "metadata": {},
   "source": [
    "**Wie wir wissen ist der rechnerische Erwartungswert der zugrunde liegenden diskreten Gleichverteilung ist 3.5. Wird der Schätzer genauer, wenn ich mehr Ziehungen habe?**"
   ]
  },
  {
   "cell_type": "markdown",
   "metadata": {},
   "source": [
    "Da sowohl die Summe der Ergebnisse und die Zahl n ganzzahlig ist wird Ergebnis automatisch auf eine ganze Zahl gerundet. Mit `float(n)` n zu einer Fließkommazahl, so dass das Ergebnis als Fließkommazahl ausgegeben wird."
   ]
  },
  {
   "cell_type": "code",
   "execution_count": null,
   "metadata": {},
   "outputs": [],
   "source": []
  },
  {
   "cell_type": "markdown",
   "metadata": {},
   "source": [
    "## Bernoulliverteilung"
   ]
  },
  {
   "cell_type": "markdown",
   "metadata": {},
   "source": [
    "Im Falle einer diskreten Verteilung spricht man von einer Massefunktion, deshalb *pmf*"
   ]
  },
  {
   "cell_type": "code",
   "execution_count": 10,
   "metadata": {},
   "outputs": [
    {
     "data": {
      "image/png": "[encoded data removed]",
      "text/plain": [
       "<Figure size 432x288 with 1 Axes>"
      ]
     },
     "metadata": {},
     "output_type": "display_data"
    }
   ],
   "source": [
    "p = 0.4\n",
    "x = np.array([0.,1.])\n",
    "\n",
    "plt.bar(x, scipy.stats.bernoulli.pmf(x, p), 0.1);"
   ]
  },
  {
   "cell_type": "code",
   "execution_count": null,
   "metadata": {},
   "outputs": [],
   "source": []
  }
 ],
 "metadata": {
  "kernelspec": {
   "display_name": "Python 2",
   "language": "python",
   "name": "python2"
  },
  "language_info": {
   "codemirror_mode": {
    "name": "ipython",
    "version": 2
   },
   "file_extension": ".py",
   "mimetype": "text/x-python",
   "name": "python",
   "nbconvert_exporter": "python",
   "pygments_lexer": "ipython2",
   "version": "2.7.15"
  }
 },
 "nbformat": 4,
 "nbformat_minor": 2
}
